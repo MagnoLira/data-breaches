{
 "cells": [
  {
   "cell_type": "code",
   "execution_count": 1,
   "metadata": {},
   "outputs": [],
   "source": [
    "import pandas as pd\n",
    "import matplotlib.pyplot as plt\n",
    "import seaborn as sns\n",
    "import matplotlib as mpl\n",
    "import plotly.express as px\n",
    "import seaborn as sns\n",
    "import numpy as np"
   ]
  },
  {
   "cell_type": "code",
   "execution_count": 2,
   "metadata": {},
   "outputs": [
    {
     "data": {
      "text/html": [
       "<div>\n",
       "<style scoped>\n",
       "    .dataframe tbody tr th:only-of-type {\n",
       "        vertical-align: middle;\n",
       "    }\n",
       "\n",
       "    .dataframe tbody tr th {\n",
       "        vertical-align: top;\n",
       "    }\n",
       "\n",
       "    .dataframe thead th {\n",
       "        text-align: right;\n",
       "    }\n",
       "</style>\n",
       "<table border=\"1\" class=\"dataframe\">\n",
       "  <thead>\n",
       "    <tr style=\"text-align: right;\">\n",
       "      <th></th>\n",
       "      <th>Unnamed: 0</th>\n",
       "      <th>Entity</th>\n",
       "      <th>Year</th>\n",
       "      <th>Records</th>\n",
       "      <th>Organization type</th>\n",
       "      <th>Method</th>\n",
       "      <th>Sources</th>\n",
       "    </tr>\n",
       "  </thead>\n",
       "  <tbody>\n",
       "    <tr>\n",
       "      <th>0</th>\n",
       "      <td>0</td>\n",
       "      <td>21st Century Oncology</td>\n",
       "      <td>2016</td>\n",
       "      <td>2200000</td>\n",
       "      <td>healthcare</td>\n",
       "      <td>hacked</td>\n",
       "      <td>[5][6]</td>\n",
       "    </tr>\n",
       "    <tr>\n",
       "      <th>1</th>\n",
       "      <td>1</td>\n",
       "      <td>500px</td>\n",
       "      <td>2020</td>\n",
       "      <td>14870304</td>\n",
       "      <td>social networking</td>\n",
       "      <td>hacked</td>\n",
       "      <td>[7]</td>\n",
       "    </tr>\n",
       "    <tr>\n",
       "      <th>2</th>\n",
       "      <td>2</td>\n",
       "      <td>Accendo Insurance Co.</td>\n",
       "      <td>2020</td>\n",
       "      <td>175350</td>\n",
       "      <td>healthcare</td>\n",
       "      <td>poor security</td>\n",
       "      <td>[8][9]</td>\n",
       "    </tr>\n",
       "    <tr>\n",
       "      <th>3</th>\n",
       "      <td>3</td>\n",
       "      <td>Adobe Systems Incorporated</td>\n",
       "      <td>2013</td>\n",
       "      <td>152000000</td>\n",
       "      <td>tech</td>\n",
       "      <td>hacked</td>\n",
       "      <td>[10]</td>\n",
       "    </tr>\n",
       "    <tr>\n",
       "      <th>4</th>\n",
       "      <td>4</td>\n",
       "      <td>Adobe Inc.</td>\n",
       "      <td>2019</td>\n",
       "      <td>7500000</td>\n",
       "      <td>tech</td>\n",
       "      <td>poor security</td>\n",
       "      <td>[11][12]</td>\n",
       "    </tr>\n",
       "    <tr>\n",
       "      <th>...</th>\n",
       "      <td>...</td>\n",
       "      <td>...</td>\n",
       "      <td>...</td>\n",
       "      <td>...</td>\n",
       "      <td>...</td>\n",
       "      <td>...</td>\n",
       "      <td>...</td>\n",
       "    </tr>\n",
       "    <tr>\n",
       "      <th>347</th>\n",
       "      <td>347</td>\n",
       "      <td>Zynga</td>\n",
       "      <td>2019</td>\n",
       "      <td>173000000</td>\n",
       "      <td>social network</td>\n",
       "      <td>hacked</td>\n",
       "      <td>[406][407]</td>\n",
       "    </tr>\n",
       "    <tr>\n",
       "      <th>348</th>\n",
       "      <td>348</td>\n",
       "      <td>Unknown agency(believed to be tied to United S...</td>\n",
       "      <td>2020</td>\n",
       "      <td>200000000</td>\n",
       "      <td>financial</td>\n",
       "      <td>accidentally published</td>\n",
       "      <td>[408]</td>\n",
       "    </tr>\n",
       "    <tr>\n",
       "      <th>349</th>\n",
       "      <td>349</td>\n",
       "      <td>National Health Information Center (NCZI) of S...</td>\n",
       "      <td>2020</td>\n",
       "      <td>391250</td>\n",
       "      <td>healthcare</td>\n",
       "      <td>poor security</td>\n",
       "      <td>[409]</td>\n",
       "    </tr>\n",
       "    <tr>\n",
       "      <th>350</th>\n",
       "      <td>350</td>\n",
       "      <td>50 companies and government institutions</td>\n",
       "      <td>2022</td>\n",
       "      <td>6400000</td>\n",
       "      <td>various</td>\n",
       "      <td>poor security</td>\n",
       "      <td>[410] [411]</td>\n",
       "    </tr>\n",
       "    <tr>\n",
       "      <th>351</th>\n",
       "      <td>351</td>\n",
       "      <td>IKEA</td>\n",
       "      <td>2022</td>\n",
       "      <td>95000</td>\n",
       "      <td>retail</td>\n",
       "      <td>accidentally published</td>\n",
       "      <td>[412]</td>\n",
       "    </tr>\n",
       "  </tbody>\n",
       "</table>\n",
       "<p>352 rows × 7 columns</p>\n",
       "</div>"
      ],
      "text/plain": [
       "     Unnamed: 0                                             Entity  Year  \\\n",
       "0             0                              21st Century Oncology  2016   \n",
       "1             1                                              500px  2020   \n",
       "2             2                              Accendo Insurance Co.  2020   \n",
       "3             3                         Adobe Systems Incorporated  2013   \n",
       "4             4                                         Adobe Inc.  2019   \n",
       "..          ...                                                ...   ...   \n",
       "347         347                                              Zynga  2019   \n",
       "348         348  Unknown agency(believed to be tied to United S...  2020   \n",
       "349         349  National Health Information Center (NCZI) of S...  2020   \n",
       "350         350           50 companies and government institutions  2022   \n",
       "351         351                                               IKEA  2022   \n",
       "\n",
       "       Records  Organization type                  Method      Sources  \n",
       "0      2200000         healthcare                  hacked       [5][6]  \n",
       "1     14870304  social networking                  hacked          [7]  \n",
       "2       175350         healthcare           poor security       [8][9]  \n",
       "3    152000000               tech                  hacked         [10]  \n",
       "4      7500000               tech           poor security     [11][12]  \n",
       "..         ...                ...                     ...          ...  \n",
       "347  173000000     social network                  hacked   [406][407]  \n",
       "348  200000000          financial  accidentally published        [408]  \n",
       "349     391250         healthcare           poor security        [409]  \n",
       "350    6400000            various           poor security  [410] [411]  \n",
       "351      95000             retail  accidentally published        [412]  \n",
       "\n",
       "[352 rows x 7 columns]"
      ]
     },
     "execution_count": 2,
     "metadata": {},
     "output_type": "execute_result"
    }
   ],
   "source": [
    "dataset=pd.read_csv(\"Data Breaches.csv\")\n",
    "dataset"
   ]
  },
  {
   "cell_type": "code",
   "execution_count": 3,
   "metadata": {},
   "outputs": [],
   "source": [
    "del dataset['Unnamed: 0']"
   ]
  },
  {
   "cell_type": "code",
   "execution_count": 4,
   "metadata": {},
   "outputs": [
    {
     "data": {
      "text/html": [
       "<div>\n",
       "<style scoped>\n",
       "    .dataframe tbody tr th:only-of-type {\n",
       "        vertical-align: middle;\n",
       "    }\n",
       "\n",
       "    .dataframe tbody tr th {\n",
       "        vertical-align: top;\n",
       "    }\n",
       "\n",
       "    .dataframe thead th {\n",
       "        text-align: right;\n",
       "    }\n",
       "</style>\n",
       "<table border=\"1\" class=\"dataframe\">\n",
       "  <thead>\n",
       "    <tr style=\"text-align: right;\">\n",
       "      <th></th>\n",
       "      <th>Entity</th>\n",
       "      <th>Year</th>\n",
       "      <th>Records</th>\n",
       "      <th>Organization type</th>\n",
       "      <th>Method</th>\n",
       "      <th>Sources</th>\n",
       "    </tr>\n",
       "  </thead>\n",
       "  <tbody>\n",
       "    <tr>\n",
       "      <th>0</th>\n",
       "      <td>21st Century Oncology</td>\n",
       "      <td>2016</td>\n",
       "      <td>2200000</td>\n",
       "      <td>healthcare</td>\n",
       "      <td>hacked</td>\n",
       "      <td>[5][6]</td>\n",
       "    </tr>\n",
       "    <tr>\n",
       "      <th>1</th>\n",
       "      <td>500px</td>\n",
       "      <td>2020</td>\n",
       "      <td>14870304</td>\n",
       "      <td>social networking</td>\n",
       "      <td>hacked</td>\n",
       "      <td>[7]</td>\n",
       "    </tr>\n",
       "    <tr>\n",
       "      <th>2</th>\n",
       "      <td>Accendo Insurance Co.</td>\n",
       "      <td>2020</td>\n",
       "      <td>175350</td>\n",
       "      <td>healthcare</td>\n",
       "      <td>poor security</td>\n",
       "      <td>[8][9]</td>\n",
       "    </tr>\n",
       "    <tr>\n",
       "      <th>3</th>\n",
       "      <td>Adobe Systems Incorporated</td>\n",
       "      <td>2013</td>\n",
       "      <td>152000000</td>\n",
       "      <td>tech</td>\n",
       "      <td>hacked</td>\n",
       "      <td>[10]</td>\n",
       "    </tr>\n",
       "    <tr>\n",
       "      <th>4</th>\n",
       "      <td>Adobe Inc.</td>\n",
       "      <td>2019</td>\n",
       "      <td>7500000</td>\n",
       "      <td>tech</td>\n",
       "      <td>poor security</td>\n",
       "      <td>[11][12]</td>\n",
       "    </tr>\n",
       "  </tbody>\n",
       "</table>\n",
       "</div>"
      ],
      "text/plain": [
       "                       Entity  Year    Records  Organization type  \\\n",
       "0       21st Century Oncology  2016    2200000         healthcare   \n",
       "1                       500px  2020   14870304  social networking   \n",
       "2       Accendo Insurance Co.  2020     175350         healthcare   \n",
       "3  Adobe Systems Incorporated  2013  152000000               tech   \n",
       "4                  Adobe Inc.  2019    7500000               tech   \n",
       "\n",
       "          Method   Sources  \n",
       "0         hacked    [5][6]  \n",
       "1         hacked       [7]  \n",
       "2  poor security    [8][9]  \n",
       "3         hacked      [10]  \n",
       "4  poor security  [11][12]  "
      ]
     },
     "execution_count": 4,
     "metadata": {},
     "output_type": "execute_result"
    }
   ],
   "source": [
    "dataset.head()"
   ]
  },
  {
   "cell_type": "code",
   "execution_count": 5,
   "metadata": {},
   "outputs": [
    {
     "data": {
      "text/plain": [
       "Entity               0\n",
       "Year                 0\n",
       "Records              2\n",
       "Organization type    0\n",
       "Method               1\n",
       "Sources              2\n",
       "dtype: int64"
      ]
     },
     "execution_count": 5,
     "metadata": {},
     "output_type": "execute_result"
    }
   ],
   "source": [
    "dataset.isnull().sum()"
   ]
  },
  {
   "cell_type": "code",
   "execution_count": 6,
   "metadata": {},
   "outputs": [],
   "source": [
    "ent=dataset['Year'].value_counts(normalize=True)*100\n",
    "ent=round(ent.iloc[0:5],2)"
   ]
  },
  {
   "cell_type": "code",
   "execution_count": 7,
   "metadata": {},
   "outputs": [],
   "source": [
    "label=['2011','2020','2019','2015','2013']"
   ]
  },
  {
   "cell_type": "code",
   "execution_count": 8,
   "metadata": {},
   "outputs": [
    {
     "data": {
      "image/png": "[encoded data removed]",
      "text/plain": [
       "<Figure size 720x432 with 1 Axes>"
      ]
     },
     "metadata": {
      "needs_background": "light"
     },
     "output_type": "display_data"
    }
   ],
   "source": [
    "#figure, axes, setting the size\n",
    "fig, ax = plt.subplots(figsize=(10,6))\n",
    "#Bar plot\n",
    "plot=sns.barplot(x=label, y=ent, palette='Blues_r',ci=False)\n",
    "#bacground color\n",
    "#add title\n",
    "# ax.set_title(\"The five Years with the most occurrences of cyber attacks\", fontdict={'fontsize':15})\n",
    "#setting the name and size of xlabel\n",
    "ax.set_xlabel('Years',fontdict={'fontsize':14})\n",
    "#setting the name of ylabel\n",
    "ax.set_ylabel('Occurrence in (%)', fontdict={'fontsize':14})\n",
    "#setting the size of ticks\n",
    "ax.tick_params(labelsize=14)\n",
    "#increasing the thickness\n",
    "ax.spines['bottom'].set_linewidth(2.5)\n",
    "#removing axes\n",
    "for axis in ['top', 'right', 'left']:\n",
    "   ax.spines[axis].set_color(None)\n",
    "#numbers\n",
    "for i in plot.patches:\n",
    "   plot.annotate(f'{i.get_height()}%',(i.get_x()+i.get_width()/2,i.get_height()),\n",
    "   ha='center',va='baseline',fontsize=12,\n",
    "   color='black',xytext=(0,1),\n",
    "   textcoords='offset points')\n",
    "#removinfg ticks\n",
    "ax.tick_params(axis='y', labelleft=False, left=None)                  \n",
    "#space optimize\n",
    "fig.tight_layout();"
   ]
  },
  {
   "cell_type": "code",
   "execution_count": 9,
   "metadata": {},
   "outputs": [],
   "source": [
    "dataset['Method'].fillna(dataset['Method'].mode()[0],inplace=True)"
   ]
  },
  {
   "cell_type": "code",
   "execution_count": 10,
   "metadata": {},
   "outputs": [
    {
     "data": {
      "text/plain": [
       "Entity               0\n",
       "Year                 0\n",
       "Records              2\n",
       "Organization type    0\n",
       "Method               0\n",
       "Sources              2\n",
       "dtype: int64"
      ]
     },
     "execution_count": 10,
     "metadata": {},
     "output_type": "execute_result"
    }
   ],
   "source": [
    "dataset.isnull().sum()"
   ]
  },
  {
   "cell_type": "code",
   "execution_count": 11,
   "metadata": {},
   "outputs": [
    {
     "data": {
      "text/html": [
       "<div>\n",
       "<style scoped>\n",
       "    .dataframe tbody tr th:only-of-type {\n",
       "        vertical-align: middle;\n",
       "    }\n",
       "\n",
       "    .dataframe tbody tr th {\n",
       "        vertical-align: top;\n",
       "    }\n",
       "\n",
       "    .dataframe thead th {\n",
       "        text-align: right;\n",
       "    }\n",
       "</style>\n",
       "<table border=\"1\" class=\"dataframe\">\n",
       "  <thead>\n",
       "    <tr style=\"text-align: right;\">\n",
       "      <th></th>\n",
       "      <th>Entity</th>\n",
       "      <th>Year</th>\n",
       "      <th>Records</th>\n",
       "      <th>Organization type</th>\n",
       "      <th>Method</th>\n",
       "      <th>Sources</th>\n",
       "    </tr>\n",
       "  </thead>\n",
       "  <tbody>\n",
       "    <tr>\n",
       "      <th>0</th>\n",
       "      <td>21st Century Oncology</td>\n",
       "      <td>2016</td>\n",
       "      <td>2200000</td>\n",
       "      <td>healthcare</td>\n",
       "      <td>hacked</td>\n",
       "      <td>[5][6]</td>\n",
       "    </tr>\n",
       "    <tr>\n",
       "      <th>1</th>\n",
       "      <td>500px</td>\n",
       "      <td>2020</td>\n",
       "      <td>14870304</td>\n",
       "      <td>social networking</td>\n",
       "      <td>hacked</td>\n",
       "      <td>[7]</td>\n",
       "    </tr>\n",
       "    <tr>\n",
       "      <th>2</th>\n",
       "      <td>Accendo Insurance Co.</td>\n",
       "      <td>2020</td>\n",
       "      <td>175350</td>\n",
       "      <td>healthcare</td>\n",
       "      <td>poor security</td>\n",
       "      <td>[8][9]</td>\n",
       "    </tr>\n",
       "    <tr>\n",
       "      <th>3</th>\n",
       "      <td>Adobe Systems Incorporated</td>\n",
       "      <td>2013</td>\n",
       "      <td>152000000</td>\n",
       "      <td>tech</td>\n",
       "      <td>hacked</td>\n",
       "      <td>[10]</td>\n",
       "    </tr>\n",
       "    <tr>\n",
       "      <th>4</th>\n",
       "      <td>Adobe Inc.</td>\n",
       "      <td>2019</td>\n",
       "      <td>7500000</td>\n",
       "      <td>tech</td>\n",
       "      <td>poor security</td>\n",
       "      <td>[11][12]</td>\n",
       "    </tr>\n",
       "    <tr>\n",
       "      <th>...</th>\n",
       "      <td>...</td>\n",
       "      <td>...</td>\n",
       "      <td>...</td>\n",
       "      <td>...</td>\n",
       "      <td>...</td>\n",
       "      <td>...</td>\n",
       "    </tr>\n",
       "    <tr>\n",
       "      <th>347</th>\n",
       "      <td>Zynga</td>\n",
       "      <td>2019</td>\n",
       "      <td>173000000</td>\n",
       "      <td>social network</td>\n",
       "      <td>hacked</td>\n",
       "      <td>[406][407]</td>\n",
       "    </tr>\n",
       "    <tr>\n",
       "      <th>348</th>\n",
       "      <td>Unknown agency(believed to be tied to United S...</td>\n",
       "      <td>2020</td>\n",
       "      <td>200000000</td>\n",
       "      <td>financial</td>\n",
       "      <td>accidentally published</td>\n",
       "      <td>[408]</td>\n",
       "    </tr>\n",
       "    <tr>\n",
       "      <th>349</th>\n",
       "      <td>National Health Information Center (NCZI) of S...</td>\n",
       "      <td>2020</td>\n",
       "      <td>391250</td>\n",
       "      <td>healthcare</td>\n",
       "      <td>poor security</td>\n",
       "      <td>[409]</td>\n",
       "    </tr>\n",
       "    <tr>\n",
       "      <th>350</th>\n",
       "      <td>50 companies and government institutions</td>\n",
       "      <td>2022</td>\n",
       "      <td>6400000</td>\n",
       "      <td>various</td>\n",
       "      <td>poor security</td>\n",
       "      <td>[410] [411]</td>\n",
       "    </tr>\n",
       "    <tr>\n",
       "      <th>351</th>\n",
       "      <td>IKEA</td>\n",
       "      <td>2022</td>\n",
       "      <td>95000</td>\n",
       "      <td>retail</td>\n",
       "      <td>accidentally published</td>\n",
       "      <td>[412]</td>\n",
       "    </tr>\n",
       "  </tbody>\n",
       "</table>\n",
       "<p>331 rows × 6 columns</p>\n",
       "</div>"
      ],
      "text/plain": [
       "                                                Entity  Year    Records  \\\n",
       "0                                21st Century Oncology  2016    2200000   \n",
       "1                                                500px  2020   14870304   \n",
       "2                                Accendo Insurance Co.  2020     175350   \n",
       "3                           Adobe Systems Incorporated  2013  152000000   \n",
       "4                                           Adobe Inc.  2019    7500000   \n",
       "..                                                 ...   ...        ...   \n",
       "347                                              Zynga  2019  173000000   \n",
       "348  Unknown agency(believed to be tied to United S...  2020  200000000   \n",
       "349  National Health Information Center (NCZI) of S...  2020     391250   \n",
       "350           50 companies and government institutions  2022    6400000   \n",
       "351                                               IKEA  2022      95000   \n",
       "\n",
       "     Organization type                  Method      Sources  \n",
       "0           healthcare                  hacked       [5][6]  \n",
       "1    social networking                  hacked          [7]  \n",
       "2           healthcare           poor security       [8][9]  \n",
       "3                 tech                  hacked         [10]  \n",
       "4                 tech           poor security     [11][12]  \n",
       "..                 ...                     ...          ...  \n",
       "347     social network                  hacked   [406][407]  \n",
       "348          financial  accidentally published        [408]  \n",
       "349         healthcare           poor security        [409]  \n",
       "350            various           poor security  [410] [411]  \n",
       "351             retail  accidentally published        [412]  \n",
       "\n",
       "[331 rows x 6 columns]"
      ]
     },
     "execution_count": 11,
     "metadata": {},
     "output_type": "execute_result"
    }
   ],
   "source": [
    "dataset1=dataset[dataset['Records']!='unknown']\n",
    "dataset1"
   ]
  },
  {
   "cell_type": "code",
   "execution_count": 12,
   "metadata": {},
   "outputs": [
    {
     "data": {
      "application/vnd.plotly.v1+json": {
       "config": {
        "plotlyServerURL": "https://plot.ly"
       },
       "data": [
        {
         "hovertemplate": "Organization type=%{x}<br>Method=%{y}<extra></extra>",
         "legendgroup": "",
         "marker": {
          "color": "#636efa",
          "symbol": "circle"
         },
         "mode": "markers",
         "name": "",
         "orientation": "v",
         "showlegend": false,
         "type": "scatter",
         "x": [
          "healthcare",
          "social networking",
          "healthcare",
          "tech",
          "tech",
          "healthcare",
          "advertising",
          "healthcare",
          "telecommunications",
          "transport",
          "financial",
          "web",
          "gaming",
          "healthcare",
          "healthcare",
          "web",
          "web",
          "web",
          "tech, retail",
          "tech",
          "healthcare",
          "web",
          "telecoms",
          "telecoms",
          "web",
          "government",
          "academic",
          "financial",
          "healthcare",
          "retail",
          "financial",
          "financial",
          "retail",
          "telecoms",
          "telecoms",
          "educational services",
          "web",
          "gaming",
          "gaming",
          "gaming",
          "gaming",
          "healthcare",
          "banking",
          "transport",
          "retail",
          "government",
          "government",
          "web",
          "game",
          "financial",
          "financial",
          "transport",
          "healthcare",
          "financial",
          "energy",
          "financial",
          "background check",
          "web",
          "web",
          "financial",
          "financial",
          "financial",
          "healthcare",
          "information technology",
          "healthcare",
          "healthcare",
          "government",
          "financial",
          "financial",
          "financial",
          "healthcare",
          "telecoms",
          "healthcare",
          "retail",
          "hosting provider",
          "retail",
          "financial",
          "military",
          "health",
          "consulting, accounting",
          "political",
          "government",
          "financial",
          "web",
          "web",
          "government",
          "web",
          "web",
          "retail",
          "messaging app",
          "tech",
          "transport",
          "web",
          "restaurant",
          "financial",
          "healthcare",
          "tech",
          "government",
          "healthcare",
          "healthcare",
          "financial, credit reporting",
          "web",
          "data broker",
          "healthcare",
          "telecoms",
          "social network",
          "social network",
          "social network",
          "social network",
          "social network",
          "retail",
          "financial",
          "financial",
          "financial service company",
          "Information Security",
          "government",
          "web",
          "web",
          "web",
          "personal and demographic data about residents and their properties of US",
          "web",
          "retail",
          "web",
          "financial",
          "web",
          "social network",
          "government",
          "healthcare",
          "energy",
          "retail",
          "retail",
          "healthcare",
          "healthcare",
          "healthcare",
          "financial",
          "transport",
          "tech, retail",
          "hotel",
          "retail",
          "retail",
          "hotel",
          "energy",
          "social network",
          "financial",
          "humanitarian",
          "healthcare",
          "financial",
          "special public corporation",
          "shopping",
          "government",
          "financial",
          "financial",
          "local search",
          "telecoms",
          "academic",
          "web",
          "financial",
          "tech",
          "telecoms",
          "tech",
          "restaurant",
          "publisher (magazine)",
          "healthcare",
          "healthcare",
          "web",
          "web",
          "web",
          "hotel",
          "hotel",
          "hotel",
          "government",
          "financial",
          "government, healthcare",
          "healthcare",
          "healthcare",
          "retail",
          "tech",
          "web, military",
          "government",
          "healthcare",
          "financial",
          "tech",
          "tech",
          "telecommunications",
          "web",
          "financial",
          "online shopping",
          "web",
          "genealogy",
          "retail",
          "healthcare",
          "retail",
          "healthcare",
          "tech",
          "healthcare",
          "energy",
          "transport",
          "web",
          "healthcare",
          "gaming",
          "gaming",
          "media",
          "gaming",
          "government",
          "financial",
          "government",
          "government",
          "academic",
          "web",
          "web",
          "web",
          "QR code payment",
          "fashion",
          "healthcare",
          "healthcare",
          "Clinical Laboratory",
          "Question & Answer",
          "web",
          "web",
          "financial",
          "retail",
          "web, gaming",
          "government",
          "government",
          "financial",
          "web",
          "healthcare",
          "gaming",
          "government",
          "government, database",
          "tech",
          "phone accessories",
          "web, tech",
          "Network Monitoring",
          "gaming",
          "web",
          "media",
          "gaming",
          "government",
          "healthcare",
          "healthcare",
          "healthcare",
          "healthcare",
          "academic",
          "retail",
          "hotel",
          "government",
          "web",
          "retail",
          "military",
          "retail",
          "healthcare",
          "government",
          "retail",
          "web",
          "retail",
          "web",
          "financial",
          "financial",
          "telecoms",
          "market analysis",
          "government",
          "ticket distribution",
          "web",
          "social media",
          "retail",
          "telecoms",
          "telecom",
          "military, healthcare",
          "healthcare",
          "Telephone directory",
          "hotel",
          "web",
          "web",
          "tech",
          "transport",
          "tech",
          "healthcare",
          "government",
          "government",
          "government",
          "academic",
          "Consumer Goods",
          "academic",
          "academic",
          "academic",
          "academic",
          "academic",
          "academic",
          "academic",
          "government",
          "retail",
          "military",
          "government",
          "military",
          "government, military",
          "government, military",
          "government",
          "military",
          "military",
          "military",
          "healthcare",
          "telecoms",
          "online marketing",
          "mobile carrier",
          "government, healthcare",
          "healthcare",
          "telecoms",
          "retail",
          "retail",
          "media",
          "government",
          "web",
          "retail",
          "web",
          "financial",
          "web service",
          "web",
          "web",
          "web",
          "web",
          "tech, web",
          "web",
          "academic",
          "social media",
          "web",
          "social network",
          "financial",
          "healthcare",
          "various",
          "retail"
         ],
         "xaxis": "x",
         "y": [
          "hacked",
          "hacked",
          "poor security",
          "hacked",
          "poor security",
          "lost / stolen media",
          "hacked",
          "lost / stolen media",
          "poor security",
          "hacked",
          "lost / stolen media",
          "poor security",
          "hacked",
          "hacked",
          "hacked",
          "inside job, hacked",
          "accidentally published",
          "hacked",
          "accidentally published",
          "hacked",
          "poor security",
          "hacked",
          "lost / stolen computer",
          "hacked",
          "hacked",
          "accidentally published",
          "hacked",
          "poor security",
          "lost / stolen computer",
          "hacked",
          "lost / stolen media",
          "lost / stolen media",
          "hacked",
          "poor security",
          "hacked",
          "hacked",
          "hacked",
          "hacked",
          "accidentally published",
          "hacked",
          "hacked",
          "lost / stolen media",
          "poor security",
          "hacked",
          "hacked",
          "hacked",
          "lost / stolen media",
          "hacked",
          "hacked",
          "unsecured S3 bucket",
          "hacked",
          "hacked",
          "hacked",
          "hacked",
          "hacked",
          "hacked",
          "unknown",
          "hacked",
          "hacked",
          "lost / stolen media",
          "hacked",
          "poor security",
          "lost / stolen media",
          "hacked",
          "lost / stolen computer",
          "hacked",
          "hacked",
          "inside job",
          "inside job",
          "inside job",
          "hacked",
          "hacked",
          "lost / stolen computer",
          "hacked",
          "hacked",
          "inside job",
          "hacked",
          "hacked",
          "poor security",
          "poor security",
          "hacked",
          "poor security",
          "inside job",
          "hacked",
          "hacked",
          "lost / stolen media",
          "hacked",
          "hacked",
          "hacked",
          "hacked",
          "hacked",
          "hacked",
          "hacked",
          "hacked",
          "lost / stolen media",
          "lost / stolen computer",
          "poor security",
          "inside job",
          "lost / stolen media",
          "poor security",
          "poor security",
          "hacked",
          "poor security",
          "hacked",
          "hacked",
          "accidentally published",
          "poor security",
          "poor security",
          "accidentally uploaded",
          "poor security",
          "hacked",
          "hacked",
          "inside job",
          "poor security",
          "hacked",
          "lost / stolen computer",
          "poor security / hacked",
          "hacked",
          "accidentally published",
          "Poor security",
          "hacked",
          "lost / stolen computer",
          "hacked",
          "hacked",
          "hacked",
          "poor security",
          "hacked",
          "hacked",
          "inside job",
          "hacked",
          "hacked",
          "lost / stolen media",
          "lost / stolen media",
          "poor security",
          "hacked",
          "lost / stolen media",
          "lost / stolen media",
          "hacked",
          "hacked",
          "poor security",
          "hacked",
          "poor security",
          "poor security",
          "hacked",
          "unknown",
          "inside job",
          "hacked",
          "hacked",
          "inside job",
          "accidentally published",
          "lost / stolen media",
          "hacked",
          "unprotected api",
          "hacked",
          "hacked",
          "hacked",
          "inside job",
          "hacked",
          "hacked",
          "hacked",
          "hacked",
          "unknown",
          "hacked",
          "lost / stolen media",
          "accidentally published",
          "hacked",
          "hacked",
          "hacked",
          "hacked",
          "poor security/inside job",
          "poor security",
          "hacked",
          "hacked",
          "hacked",
          "lost / stolen media",
          "hacked",
          "data exposed by misconfiguration",
          "accidentally published",
          "accidentally published",
          "poor security/inside job",
          "intentionally lost",
          "poor security",
          "poor security",
          "misconfiguration/poor security",
          "hacked",
          "lost / stolen media",
          "ransomware hacked",
          "poor security",
          "unknown",
          "hacked",
          "hacked",
          "hacked",
          "lost / stolen media",
          "hacked",
          "lost / stolen media",
          "inside job",
          "poor security",
          "hacked",
          "lost / stolen media",
          "hacked",
          "hacked",
          "hacked",
          "hacked",
          "accidentally published",
          "rogue contractor",
          "hacked",
          "accidentally published",
          "hacked",
          "hacked",
          "hacked",
          "hacked",
          "improper setting, hacked",
          "hacked",
          "hacked",
          "hacked",
          "poor security",
          "hacked",
          "improper setting, hacked",
          "hacked",
          "hacked",
          "hacked",
          "hacked",
          "inside job",
          "hacked",
          "hacked",
          "hacked",
          "hacked",
          "hacked",
          "lost / stolen media",
          "hacked",
          "poor security",
          "poor security",
          "hacked",
          "hacked",
          "hacked",
          "hacked",
          "hacked",
          "hacked",
          "hacked",
          "inside job",
          "lost / stolen media",
          "hacked",
          "lost / stolen computer",
          "lost / stolen computer",
          "lost / stolen computer",
          "hacked",
          "accidentally published",
          "hacked",
          "hacked",
          "accidentally published",
          "hacked",
          "lost / stolen computer",
          "hacked",
          "hacked",
          "hacked",
          "hacked",
          "hacked",
          "hacked",
          "hacked",
          "accidentally published",
          "poor security",
          "inside job",
          "hacked",
          "hacked",
          "poor security",
          "hacked",
          "lost / stolen media",
          "hacked",
          "lost / stolen computer",
          "lost / stolen media",
          "unknown",
          "hacked",
          "hacked",
          "hacked",
          "poor security",
          "hacked",
          "hacked",
          "hacked",
          "lost / stolen media",
          "lost / stolen media",
          "lost / stolen media",
          "hacked",
          "hacked",
          "hacked",
          "hacked",
          "hacked",
          "hacked",
          "lost / stolen computer",
          "lost / stolen media",
          "hacked",
          "poor security",
          "hacked",
          "accidentally published",
          "inside job",
          "lost / stolen media",
          "lost / stolen computer",
          "hacked",
          "accidentally published",
          "lost / stolen media",
          "inside job",
          "lost / stolen computer",
          "hacked",
          "hacked",
          "publicly accessible Amazon Web Services (AWS) server",
          "accidentally exposed",
          "hacked",
          "hacked",
          "inside job",
          "hacked",
          "hacked",
          "hacked",
          "hacked",
          "hacked",
          "hacked",
          "hacked",
          "hacked",
          "hacked",
          "hacked",
          "social engineering",
          "hacked",
          "hacked",
          "hacked",
          "hacked",
          "accidentally published",
          "poor security",
          "hacked",
          "hacked",
          "accidentally published",
          "poor security",
          "poor security",
          "accidentally published"
         ],
         "yaxis": "y"
        }
       ],
       "layout": {
        "legend": {
         "tracegroupgap": 0
        },
        "margin": {
         "t": 60
        },
        "template": {
         "data": {
          "bar": [
           {
            "error_x": {
             "color": "#2a3f5f"
            },
            "error_y": {
             "color": "#2a3f5f"
            },
            "marker": {
             "line": {
              "color": "#E5ECF6",
              "width": 0.5
             },
             "pattern": {
              "fillmode": "overlay",
              "size": 10,
              "solidity": 0.2
             }
            },
            "type": "bar"
           }
          ],
          "barpolar": [
           {
            "marker": {
             "line": {
              "color": "#E5ECF6",
              "width": 0.5
             },
             "pattern": {
              "fillmode": "overlay",
              "size": 10,
              "solidity": 0.2
             }
            },
            "type": "barpolar"
           }
          ],
          "carpet": [
           {
            "aaxis": {
             "endlinecolor": "#2a3f5f",
             "gridcolor": "white",
             "linecolor": "white",
             "minorgridcolor": "white",
             "startlinecolor": "#2a3f5f"
            },
            "baxis": {
             "endlinecolor": "#2a3f5f",
             "gridcolor": "white",
             "linecolor": "white",
             "minorgridcolor": "white",
             "startlinecolor": "#2a3f5f"
            },
            "type": "carpet"
           }
          ],
          "choropleth": [
           {
            "colorbar": {
             "outlinewidth": 0,
             "ticks": ""
            },
            "type": "choropleth"
           }
          ],
          "contour": [
           {
            "colorbar": {
             "outlinewidth": 0,
             "ticks": ""
            },
            "colorscale": [
             [
              0,
              "#0d0887"
             ],
             [
              0.1111111111111111,
              "#46039f"
             ],
             [
              0.2222222222222222,
              "#7201a8"
             ],
             [
              0.3333333333333333,
              "#9c179e"
             ],
             [
              0.4444444444444444,
              "#bd3786"
             ],
             [
              0.5555555555555556,
              "#d8576b"
             ],
             [
              0.6666666666666666,
              "#ed7953"
             ],
             [
              0.7777777777777778,
              "#fb9f3a"
             ],
             [
              0.8888888888888888,
              "#fdca26"
             ],
             [
              1,
              "#f0f921"
             ]
            ],
            "type": "contour"
           }
          ],
          "contourcarpet": [
           {
            "colorbar": {
             "outlinewidth": 0,
             "ticks": ""
            },
            "type": "contourcarpet"
           }
          ],
          "heatmap": [
           {
            "colorbar": {
             "outlinewidth": 0,
             "ticks": ""
            },
            "colorscale": [
             [
              0,
              "#0d0887"
             ],
             [
              0.1111111111111111,
              "#46039f"
             ],
             [
              0.2222222222222222,
              "#7201a8"
             ],
             [
              0.3333333333333333,
              "#9c179e"
             ],
             [
              0.4444444444444444,
              "#bd3786"
             ],
             [
              0.5555555555555556,
              "#d8576b"
             ],
             [
              0.6666666666666666,
              "#ed7953"
             ],
             [
              0.7777777777777778,
              "#fb9f3a"
             ],
             [
              0.8888888888888888,
              "#fdca26"
             ],
             [
              1,
              "#f0f921"
             ]
            ],
            "type": "heatmap"
           }
          ],
          "heatmapgl": [
           {
            "colorbar": {
             "outlinewidth": 0,
             "ticks": ""
            },
            "colorscale": [
             [
              0,
              "#0d0887"
             ],
             [
              0.1111111111111111,
              "#46039f"
             ],
             [
              0.2222222222222222,
              "#7201a8"
             ],
             [
              0.3333333333333333,
              "#9c179e"
             ],
             [
              0.4444444444444444,
              "#bd3786"
             ],
             [
              0.5555555555555556,
              "#d8576b"
             ],
             [
              0.6666666666666666,
              "#ed7953"
             ],
             [
              0.7777777777777778,
              "#fb9f3a"
             ],
             [
              0.8888888888888888,
              "#fdca26"
             ],
             [
              1,
              "#f0f921"
             ]
            ],
            "type": "heatmapgl"
           }
          ],
          "histogram": [
           {
            "marker": {
             "pattern": {
              "fillmode": "overlay",
              "size": 10,
              "solidity": 0.2
             }
            },
            "type": "histogram"
           }
          ],
          "histogram2d": [
           {
            "colorbar": {
             "outlinewidth": 0,
             "ticks": ""
            },
            "colorscale": [
             [
              0,
              "#0d0887"
             ],
             [
              0.1111111111111111,
              "#46039f"
             ],
             [
              0.2222222222222222,
              "#7201a8"
             ],
             [
              0.3333333333333333,
              "#9c179e"
             ],
             [
              0.4444444444444444,
              "#bd3786"
             ],
             [
              0.5555555555555556,
              "#d8576b"
             ],
             [
              0.6666666666666666,
              "#ed7953"
             ],
             [
              0.7777777777777778,
              "#fb9f3a"
             ],
             [
              0.8888888888888888,
              "#fdca26"
             ],
             [
              1,
              "#f0f921"
             ]
            ],
            "type": "histogram2d"
           }
          ],
          "histogram2dcontour": [
           {
            "colorbar": {
             "outlinewidth": 0,
             "ticks": ""
            },
            "colorscale": [
             [
              0,
              "#0d0887"
             ],
             [
              0.1111111111111111,
              "#46039f"
             ],
             [
              0.2222222222222222,
              "#7201a8"
             ],
             [
              0.3333333333333333,
              "#9c179e"
             ],
             [
              0.4444444444444444,
              "#bd3786"
             ],
             [
              0.5555555555555556,
              "#d8576b"
             ],
             [
              0.6666666666666666,
              "#ed7953"
             ],
             [
              0.7777777777777778,
              "#fb9f3a"
             ],
             [
              0.8888888888888888,
              "#fdca26"
             ],
             [
              1,
              "#f0f921"
             ]
            ],
            "type": "histogram2dcontour"
           }
          ],
          "mesh3d": [
           {
            "colorbar": {
             "outlinewidth": 0,
             "ticks": ""
            },
            "type": "mesh3d"
           }
          ],
          "parcoords": [
           {
            "line": {
             "colorbar": {
              "outlinewidth": 0,
              "ticks": ""
             }
            },
            "type": "parcoords"
           }
          ],
          "pie": [
           {
            "automargin": true,
            "type": "pie"
           }
          ],
          "scatter": [
           {
            "marker": {
             "colorbar": {
              "outlinewidth": 0,
              "ticks": ""
             }
            },
            "type": "scatter"
           }
          ],
          "scatter3d": [
           {
            "line": {
             "colorbar": {
              "outlinewidth": 0,
              "ticks": ""
             }
            },
            "marker": {
             "colorbar": {
              "outlinewidth": 0,
              "ticks": ""
             }
            },
            "type": "scatter3d"
           }
          ],
          "scattercarpet": [
           {
            "marker": {
             "colorbar": {
              "outlinewidth": 0,
              "ticks": ""
             }
            },
            "type": "scattercarpet"
           }
          ],
          "scattergeo": [
           {
            "marker": {
             "colorbar": {
              "outlinewidth": 0,
              "ticks": ""
             }
            },
            "type": "scattergeo"
           }
          ],
          "scattergl": [
           {
            "marker": {
             "colorbar": {
              "outlinewidth": 0,
              "ticks": ""
             }
            },
            "type": "scattergl"
           }
          ],
          "scattermapbox": [
           {
            "marker": {
             "colorbar": {
              "outlinewidth": 0,
              "ticks": ""
             }
            },
            "type": "scattermapbox"
           }
          ],
          "scatterpolar": [
           {
            "marker": {
             "colorbar": {
              "outlinewidth": 0,
              "ticks": ""
             }
            },
            "type": "scatterpolar"
           }
          ],
          "scatterpolargl": [
           {
            "marker": {
             "colorbar": {
              "outlinewidth": 0,
              "ticks": ""
             }
            },
            "type": "scatterpolargl"
           }
          ],
          "scatterternary": [
           {
            "marker": {
             "colorbar": {
              "outlinewidth": 0,
              "ticks": ""
             }
            },
            "type": "scatterternary"
           }
          ],
          "surface": [
           {
            "colorbar": {
             "outlinewidth": 0,
             "ticks": ""
            },
            "colorscale": [
             [
              0,
              "#0d0887"
             ],
             [
              0.1111111111111111,
              "#46039f"
             ],
             [
              0.2222222222222222,
              "#7201a8"
             ],
             [
              0.3333333333333333,
              "#9c179e"
             ],
             [
              0.4444444444444444,
              "#bd3786"
             ],
             [
              0.5555555555555556,
              "#d8576b"
             ],
             [
              0.6666666666666666,
              "#ed7953"
             ],
             [
              0.7777777777777778,
              "#fb9f3a"
             ],
             [
              0.8888888888888888,
              "#fdca26"
             ],
             [
              1,
              "#f0f921"
             ]
            ],
            "type": "surface"
           }
          ],
          "table": [
           {
            "cells": {
             "fill": {
              "color": "#EBF0F8"
             },
             "line": {
              "color": "white"
             }
            },
            "header": {
             "fill": {
              "color": "#C8D4E3"
             },
             "line": {
              "color": "white"
             }
            },
            "type": "table"
           }
          ]
         },
         "layout": {
          "annotationdefaults": {
           "arrowcolor": "#2a3f5f",
           "arrowhead": 0,
           "arrowwidth": 1
          },
          "autotypenumbers": "strict",
          "coloraxis": {
           "colorbar": {
            "outlinewidth": 0,
            "ticks": ""
           }
          },
          "colorscale": {
           "diverging": [
            [
             0,
             "#8e0152"
            ],
            [
             0.1,
             "#c51b7d"
            ],
            [
             0.2,
             "#de77ae"
            ],
            [
             0.3,
             "#f1b6da"
            ],
            [
             0.4,
             "#fde0ef"
            ],
            [
             0.5,
             "#f7f7f7"
            ],
            [
             0.6,
             "#e6f5d0"
            ],
            [
             0.7,
             "#b8e186"
            ],
            [
             0.8,
             "#7fbc41"
            ],
            [
             0.9,
             "#4d9221"
            ],
            [
             1,
             "#276419"
            ]
           ],
           "sequential": [
            [
             0,
             "#0d0887"
            ],
            [
             0.1111111111111111,
             "#46039f"
            ],
            [
             0.2222222222222222,
             "#7201a8"
            ],
            [
             0.3333333333333333,
             "#9c179e"
            ],
            [
             0.4444444444444444,
             "#bd3786"
            ],
            [
             0.5555555555555556,
             "#d8576b"
            ],
            [
             0.6666666666666666,
             "#ed7953"
            ],
            [
             0.7777777777777778,
             "#fb9f3a"
            ],
            [
             0.8888888888888888,
             "#fdca26"
            ],
            [
             1,
             "#f0f921"
            ]
           ],
           "sequentialminus": [
            [
             0,
             "#0d0887"
            ],
            [
             0.1111111111111111,
             "#46039f"
            ],
            [
             0.2222222222222222,
             "#7201a8"
            ],
            [
             0.3333333333333333,
             "#9c179e"
            ],
            [
             0.4444444444444444,
             "#bd3786"
            ],
            [
             0.5555555555555556,
             "#d8576b"
            ],
            [
             0.6666666666666666,
             "#ed7953"
            ],
            [
             0.7777777777777778,
             "#fb9f3a"
            ],
            [
             0.8888888888888888,
             "#fdca26"
            ],
            [
             1,
             "#f0f921"
            ]
           ]
          },
          "colorway": [
           "#636efa",
           "#EF553B",
           "#00cc96",
           "#ab63fa",
           "#FFA15A",
           "#19d3f3",
           "#FF6692",
           "#B6E880",
           "#FF97FF",
           "#FECB52"
          ],
          "font": {
           "color": "#2a3f5f"
          },
          "geo": {
           "bgcolor": "white",
           "lakecolor": "white",
           "landcolor": "#E5ECF6",
           "showlakes": true,
           "showland": true,
           "subunitcolor": "white"
          },
          "hoverlabel": {
           "align": "left"
          },
          "hovermode": "closest",
          "mapbox": {
           "style": "light"
          },
          "paper_bgcolor": "white",
          "plot_bgcolor": "#E5ECF6",
          "polar": {
           "angularaxis": {
            "gridcolor": "white",
            "linecolor": "white",
            "ticks": ""
           },
           "bgcolor": "#E5ECF6",
           "radialaxis": {
            "gridcolor": "white",
            "linecolor": "white",
            "ticks": ""
           }
          },
          "scene": {
           "xaxis": {
            "backgroundcolor": "#E5ECF6",
            "gridcolor": "white",
            "gridwidth": 2,
            "linecolor": "white",
            "showbackground": true,
            "ticks": "",
            "zerolinecolor": "white"
           },
           "yaxis": {
            "backgroundcolor": "#E5ECF6",
            "gridcolor": "white",
            "gridwidth": 2,
            "linecolor": "white",
            "showbackground": true,
            "ticks": "",
            "zerolinecolor": "white"
           },
           "zaxis": {
            "backgroundcolor": "#E5ECF6",
            "gridcolor": "white",
            "gridwidth": 2,
            "linecolor": "white",
            "showbackground": true,
            "ticks": "",
            "zerolinecolor": "white"
           }
          },
          "shapedefaults": {
           "line": {
            "color": "#2a3f5f"
           }
          },
          "ternary": {
           "aaxis": {
            "gridcolor": "white",
            "linecolor": "white",
            "ticks": ""
           },
           "baxis": {
            "gridcolor": "white",
            "linecolor": "white",
            "ticks": ""
           },
           "bgcolor": "#E5ECF6",
           "caxis": {
            "gridcolor": "white",
            "linecolor": "white",
            "ticks": ""
           }
          },
          "title": {
           "x": 0.05
          },
          "xaxis": {
           "automargin": true,
           "gridcolor": "white",
           "linecolor": "white",
           "ticks": "",
           "title": {
            "standoff": 15
           },
           "zerolinecolor": "white",
           "zerolinewidth": 2
          },
          "yaxis": {
           "automargin": true,
           "gridcolor": "white",
           "linecolor": "white",
           "ticks": "",
           "title": {
            "standoff": 15
           },
           "zerolinecolor": "white",
           "zerolinewidth": 2
          }
         }
        },
        "title": {
         "text": "Method used to compromise records in organizations"
        },
        "xaxis": {
         "anchor": "y",
         "domain": [
          0,
          1
         ],
         "showticklabels": false,
         "title": {
          "text": "Organization type"
         }
        },
        "yaxis": {
         "anchor": "x",
         "domain": [
          0,
          1
         ],
         "title": {
          "text": "Method"
         }
        }
       }
      }
     },
     "metadata": {},
     "output_type": "display_data"
    }
   ],
   "source": [
    "fig=px.scatter(dataset1, x=\"Organization type\",y='Method',color_continuous_scale='icefire')\n",
    "fig.update_layout(title_text='Method used to compromise records in organizations')\n",
    "fig.update_xaxes(\n",
    "    showticklabels=False\n",
    ")"
   ]
  },
  {
   "cell_type": "code",
   "execution_count": 13,
   "metadata": {},
   "outputs": [
    {
     "data": {
      "text/plain": [
       "Entity                              Method       \n",
       "Facebook                            poor security    3\n",
       "Yahoo                               hacked           2\n",
       "Countrywide Financial Corp          inside job       2\n",
       "Sony Pictures                       hacked           2\n",
       "University of California, Berkeley  hacked           2\n",
       "dtype: int64"
      ]
     },
     "execution_count": 13,
     "metadata": {},
     "output_type": "execute_result"
    }
   ],
   "source": [
    "dataset1[['Entity','Method']].value_counts().iloc[0:5]"
   ]
  },
  {
   "cell_type": "code",
   "execution_count": 14,
   "metadata": {},
   "outputs": [
    {
     "data": {
      "text/plain": [
       "Organization type       Year\n",
       "healthcare              2011    8\n",
       "                        2010    8\n",
       "web                     2013    8\n",
       "                        2012    7\n",
       "                        2014    7\n",
       "                               ..\n",
       "health                  2021    1\n",
       "government, military    2020    1\n",
       "                        2006    1\n",
       "government, healthcare  2012    1\n",
       "web, tech               2013    1\n",
       "Length: 184, dtype: int64"
      ]
     },
     "execution_count": 14,
     "metadata": {},
     "output_type": "execute_result"
    }
   ],
   "source": [
    "#frequency\n",
    "freq=dataset[['Organization type','Year']].value_counts()\n",
    "freq=round(freq,2)\n",
    "freq"
   ]
  },
  {
   "cell_type": "code",
   "execution_count": 15,
   "metadata": {},
   "outputs": [
    {
     "data": {
      "text/plain": [
       "Method                  Year\n",
       "hacked                  2015    6.818182\n",
       "                        2014    5.965909\n",
       "                        2013    5.965909\n",
       "                        2018    5.113636\n",
       "                        2016    4.829545\n",
       "                        2011    4.829545\n",
       "                        2012    4.261364\n",
       "                        2020    3.693182\n",
       "poor security           2019    3.125000\n",
       "hacked                  2019    2.840909\n",
       "                        2009    1.988636\n",
       "lost / stolen media     2010    1.988636\n",
       "poor security           2020    1.988636\n",
       "hacked                  2010    1.988636\n",
       "poor security           2018    1.704545\n",
       "hacked                  2021    1.704545\n",
       "lost / stolen media     2011    1.420455\n",
       "                        2008    1.420455\n",
       "lost / stolen computer  2008    1.136364\n",
       "                        2011    1.136364\n",
       "lost / stolen media     2009    1.136364\n",
       "inside job              2007    1.136364\n",
       "accidentally published  2011    1.136364\n",
       "                        2012    1.136364\n",
       "hacked                  2007    1.136364\n",
       "dtype: float64"
      ]
     },
     "execution_count": 15,
     "metadata": {},
     "output_type": "execute_result"
    }
   ],
   "source": [
    "years_meth=dataset[['Method','Year']].value_counts(normalize=True)*100\n",
    "years_meth.iloc[0:25]"
   ]
  },
  {
   "cell_type": "code",
   "execution_count": null,
   "metadata": {},
   "outputs": [],
   "source": []
  }
 ],
 "metadata": {
  "kernelspec": {
   "display_name": "Python 3.9.13 64-bit (microsoft store)",
   "language": "python",
   "name": "python3"
  },
  "language_info": {
   "codemirror_mode": {
    "name": "ipython",
    "version": 3
   },
   "file_extension": ".py",
   "mimetype": "text/x-python",
   "name": "python",
   "nbconvert_exporter": "python",
   "pygments_lexer": "ipython3",
   "version": "3.9.13"
  },
  "orig_nbformat": 4,
  "vscode": {
   "interpreter": {
    "hash": "0c880bf50398c9e6ebbd48c247ea31cff5c6f8ce48b9cfb1b78e929d6cc40437"
   }
  }
 },
 "nbformat": 4,
 "nbformat_minor": 2
}
